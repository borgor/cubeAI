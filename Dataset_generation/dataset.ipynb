{
 "cells": [
  {
   "cell_type": "code",
   "execution_count": 1,
   "metadata": {},
   "outputs": [
    {
     "name": "stdout",
     "output_type": "stream",
     "text": [
      "loading conj_twist table...\n",
      "loading conj_ud_edges table...\n",
      "loading flipslice sym-tables...\n",
      "loading move_twist table...\n",
      "loading move_flip table...\n",
      "loading move_slice_sorted table...\n",
      "loading move_u_edges table...\n",
      "loading move_d_edges table...\n",
      "loading move_ud_edges table...\n",
      "loading move_corners table...\n",
      "loading phase1_prun table...\n",
      "loading phase2_prun table...\n",
      "loading phase2_cornsliceprun table...\n"
     ]
    }
   ],
   "source": [
    "%matplotlib inline\n",
    "import sys\n",
    "sys.path.append('RubiksCube_TwophaseSolver')\n",
    "import solver as sv"
   ]
  },
  {
   "cell_type": "code",
   "execution_count": 2,
   "metadata": {},
   "outputs": [],
   "source": [
    "from RubiksCube_TwophaseSolver import cubie, face\n",
    "from compatibility import *"
   ]
  },
  {
   "cell_type": "code",
   "execution_count": 3,
   "metadata": {
    "scrolled": true
   },
   "outputs": [],
   "source": [
    "#cb = cubie.CubieCube()\n",
    "#renderCubie(cb)\n",
    "#pass"
   ]
  },
  {
   "cell_type": "code",
   "execution_count": 4,
   "metadata": {},
   "outputs": [
    {
     "name": "stdout",
     "output_type": "stream",
     "text": [
      "FFBRUBDLRDDURRLBRDLUFDFULBDBRLLDFFUBUDFLLFUDURURBBFRBL\n",
      "F2 U3 R2 U3 F2 L2 U3 B2 D1 B2 L3 R2 D1 R3 B1 D2 F3 D1 B2 L1 \n"
     ]
    }
   ],
   "source": [
    "cb3 = cubie.CubieCube()\n",
    "cb3.randomize()\n",
    "print(cb3.to_facelet_cube().to_string())\n",
    "sol = solveCubie(cb3,False)\n",
    "print(sol)"
   ]
  },
  {
   "cell_type": "code",
   "execution_count": 9,
   "metadata": {},
   "outputs": [
    {
     "data": {
      "text/plain": [
       "(array([['U', 'D', 'F', ..., 'F', 'U', ''],\n",
       "        ['U', 'F', 'B', ..., 'B', 'R', ''],\n",
       "        ['B', 'B', 'B', ..., 'D', 'R', ''],\n",
       "        ...,\n",
       "        ['D', 'D', 'L', ..., 'B', 'L', ''],\n",
       "        ['D', 'D', 'U', ..., 'L', 'D', ''],\n",
       "        ['B', 'F', 'F', ..., 'L', 'U', '']], dtype='<U1'),\n",
       " array([-8211594885104449983, -8211594885104449983, -3136517414040029629,\n",
       "        -3507247327991656249, -7075688526302015440, -1266637185392292245,\n",
       "        -3507247327991656249, -5250162747238724931,  4186548538390115365,\n",
       "        -3507247327991656249, -1266637185392292245,  -198786184483542761,\n",
       "         -198786184483542761,  4186548538390115365, -3136517414040029629,\n",
       "        -4662175671639219685,  1677961877981523064, -5250162747238724931,\n",
       "         8253566895937278401,  8205821686688644538, -5250162747238724931,\n",
       "        -2608655415936691719, -2608655415936691719,  8205821686688644538,\n",
       "         3442242342687082148,  3501235863716715537, -3136517414040029629,\n",
       "        -4662175671639219685, -1266637185392292245,  8888254050760280062,\n",
       "        -5834100333447196633, -8211594885104449983, -3507247327991656249,\n",
       "        -5834100333447196633, -4662175671639219685,  6599766184527499151,\n",
       "         8205821686688644538,  8205821686688644538, -3507247327991656249,\n",
       "         8888254050760280062,  1677961877981523064,  8253566895937278401,\n",
       "        -2608655415936691719, -8211594885104449983,  8888254050760280062,\n",
       "         8888254050760280062, -7075688526302015440, -7075688526302015440,\n",
       "        -1266637185392292245, -4662175671639219685, -3507247327991656249,\n",
       "         4186548538390115365, -8211594885104449983,  -198786184483542761,\n",
       "        -1266637185392292245,  6599766184527499151,  8205821686688644538,\n",
       "         8205821686688644538,  3442242342687082148, -5250162747238724931,\n",
       "        -8211594885104449983, -3136517414040029629, -3507247327991656249,\n",
       "        -1266637185392292245,  -198786184483542761, -4662175671639219685,\n",
       "        -3507247327991656249,  6599766184527499151,  1677961877981523064,\n",
       "        -1266637185392292245,  8253566895937278401,  4186548538390115365,\n",
       "        -4662175671639219685,  3501235863716715537,  1677961877981523064,\n",
       "        -2608655415936691719,  3501235863716715537, -4662175671639219685,\n",
       "        -4662175671639219685,  3501235863716715537, -4662175671639219685,\n",
       "        -3136517414040029629, -2608655415936691719, -5250162747238724931,\n",
       "         6599766184527499151,  4186548538390115365, -3136517414040029629,\n",
       "        -4662175671639219685, -8211594885104449983,  4186548538390115365,\n",
       "        -3507247327991656249, -1266637185392292245, -3136517414040029629,\n",
       "        -5250162747238724931, -1266637185392292245,  1677961877981523064,\n",
       "         4186548538390115365,  3442242342687082148,  1677961877981523064,\n",
       "        -3507247327991656249]))"
      ]
     },
     "execution_count": 9,
     "metadata": {},
     "output_type": "execute_result"
    }
   ],
   "source": [
    "makeData(100)"
   ]
  }
 ],
 "metadata": {
  "kernelspec": {
   "display_name": "Python 3",
   "language": "python",
   "name": "python3"
  },
  "language_info": {
   "codemirror_mode": {
    "name": "ipython",
    "version": 3
   },
   "file_extension": ".py",
   "mimetype": "text/x-python",
   "name": "python",
   "nbconvert_exporter": "python",
   "pygments_lexer": "ipython3",
   "version": "3.6.5"
  }
 },
 "nbformat": 4,
 "nbformat_minor": 2
}
