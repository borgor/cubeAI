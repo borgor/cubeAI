{
 "cells": [
  {
   "cell_type": "code",
   "execution_count": 1,
   "metadata": {},
   "outputs": [
    {
     "name": "stdout",
     "output_type": "stream",
     "text": [
      "loading conj_twist table...\n",
      "loading conj_ud_edges table...\n",
      "loading flipslice sym-tables...\n",
      "loading move_twist table...\n",
      "loading move_flip table...\n",
      "loading move_slice_sorted table...\n",
      "loading move_u_edges table...\n",
      "loading move_d_edges table...\n",
      "loading move_ud_edges table...\n",
      "loading move_corners table...\n",
      "loading phase1_prun table...\n",
      "loading phase2_prun table...\n",
      "loading phase2_cornsliceprun table...\n"
     ]
    }
   ],
   "source": [
    "%matplotlib inline\n",
    "import sys\n",
    "sys.path.append('RubiksCube_TwophaseSolver')\n",
    "import solver as sv"
   ]
  },
  {
   "cell_type": "code",
   "execution_count": 2,
   "metadata": {},
   "outputs": [],
   "source": [
    "from RubiksCube_TwophaseSolver import cubie, face\n",
    "from compatibility import *"
   ]
  },
  {
   "cell_type": "code",
   "execution_count": 3,
   "metadata": {
    "scrolled": true
   },
   "outputs": [],
   "source": [
    "#cb = cubie.CubieCube()\n",
    "#renderCubie(cb)\n",
    "#pass"
   ]
  },
  {
   "cell_type": "code",
   "execution_count": 4,
   "metadata": {},
   "outputs": [
    {
     "name": "stdout",
     "output_type": "stream",
     "text": [
      "DLFLULRRBRDUBRDDFLDFUBFDURBLBRFDUUFDBBFULUFDBLULRBRFLR\n",
      "F2 L1 B2 U3 R2 F3 B3 R2 B2 D1 B2 L1 U2 D2 F2 L1 U2 F2 R2 \n"
     ]
    }
   ],
   "source": [
    "cb3 = cubie.CubieCube()\n",
    "cb3.randomize()\n",
    "print(cb3.to_facelet_cube().to_string())\n",
    "sol = solveCubie(cb3,False)\n",
    "print(sol)"
   ]
  },
  {
   "cell_type": "code",
   "execution_count": 5,
   "metadata": {},
   "outputs": [
    {
     "name": "stdout",
     "output_type": "stream",
     "text": [
      "moved U 0 1\n",
      "moved F 0 3\n",
      "moved U 0 3\n",
      "moved U 2 2\n",
      "moved F 0 1\n",
      "moved F 2 3\n",
      "moved U 0 3\n",
      "moved R 2 3\n",
      "moved F 2 1\n",
      "moved R 0 3\n",
      "moved R 2 1\n",
      "moved F 0 1\n",
      "moved U 2 2\n",
      "moved F 0 1\n",
      "moved F 2 1\n",
      "moved R 0 2\n",
      "moved U 2 2\n",
      "moved F 0 1\n",
      "moved R 0 2\n",
      "moved F 0 2\n"
     ]
    }
   ],
   "source": [
    "d,l = makeData(20)"
   ]
  },
  {
   "cell_type": "code",
   "execution_count": 7,
   "metadata": {},
   "outputs": [
    {
     "data": {
      "text/plain": [
       "(array([[4, 1, 0, ..., 1, 5, 0],\n",
       "        [1, 0, 4, ..., 1, 5, 0],\n",
       "        [1, 0, 4, ..., 1, 5, 0],\n",
       "        ...,\n",
       "        [1, 1, 1, ..., 5, 4, 4],\n",
       "        [1, 1, 1, ..., 5, 4, 4],\n",
       "        [1, 1, 1, ..., 4, 4, 4]]),\n",
       " array([11, 53, 13,  2, 51, 41, 13, 21, 43, 33, 23, 51,  2, 51, 43, 32,  2,\n",
       "        51, 32, 52]))"
      ]
     },
     "execution_count": 7,
     "metadata": {},
     "output_type": "execute_result"
    }
   ],
   "source": [
    "d,l"
   ]
  },
  {
   "cell_type": "code",
   "execution_count": null,
   "metadata": {},
   "outputs": [],
   "source": []
  }
 ],
 "metadata": {
  "kernelspec": {
   "display_name": "Python 3",
   "language": "python",
   "name": "python3"
  },
  "language_info": {
   "codemirror_mode": {
    "name": "ipython",
    "version": 3
   },
   "file_extension": ".py",
   "mimetype": "text/x-python",
   "name": "python",
   "nbconvert_exporter": "python",
   "pygments_lexer": "ipython3",
   "version": "3.6.5"
  }
 },
 "nbformat": 4,
 "nbformat_minor": 2
}
